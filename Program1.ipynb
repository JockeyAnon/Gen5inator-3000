{
 "cells": [
  {
   "cell_type": "code",
   "execution_count": 1,
   "metadata": {},
   "outputs": [],
   "source": [
    "\n",
    "#Import Declarations\n",
    "import pandas as pd\n",
    "import numpy as np\n",
    "import matplotlib.pyplot as plt\n",
    "from mpl_toolkits import mplot3d\n",
    "import matplotlib.ticker as mticker\n",
    "from matplotlib import cm\n",
    "from tsmoothie.smoother import *\n",
    "import math\n",
    "from scipy import signal\n",
    "import matplotlib.gridspec as gridspec\n",
    "import matplotlib as mpl\n",
    "import glob\n",
    "from matplotlib.ticker import ScalarFormatter\n",
    "import os\n",
    "from matplotlib.pyplot import cm\n",
    "from ast import literal_eval\n",
    "import ast\n",
    "import time\n",
    "from matplotlib import pyplot\n",
    "import statistics as st\n",
    "import seaborn as sns\n",
    "mpl.use('TkAgg')"
   ]
  },
  {
   "cell_type": "code",
   "execution_count": 2,
   "metadata": {},
   "outputs": [
    {
     "name": "stdout",
     "output_type": "stream",
     "text": [
      "No Previous Calculated Data Detected!\n"
     ]
    }
   ],
   "source": [
    "rte = 7\n",
    "length = 170\n",
    "\n",
    "dataframes = []\n",
    "\n",
    "#Changes current working directory to the file with the spreadsheet data (REMEMBER TO SET THE PLATE NAMES TO ALPHABETICAL ORDER)\n",
    "val = \"ExperimentPA\"\n",
    "newdir = \"/Users/danielpark/Desktop/\"+val+\"/\"\n",
    "os.chdir(newdir)\n",
    "path = os.getcwd() \n",
    "f = os.listdir(path)\n",
    "\n",
    "\n",
    "print(\"No Previous Calculated Data Detected!\")\n",
    "start_time = time.time()\n",
    "csv_files = glob.glob(os.path.join(path, \"*.xlsx\")) \n",
    "\n",
    "#Turns all the xlsx spreadsheets into dataframes and transposed to make index calls easier\n",
    "for f in csv_files:\n",
    "    dataframes.append(pd.read_excel(f).values.transpose())\n"
   ]
  },
  {
   "cell_type": "code",
   "execution_count": 3,
   "metadata": {},
   "outputs": [],
   "source": [
    "od600 = dataframes[0]\n",
    "fluor = dataframes[1]\n",
    "# fluor2 = dataframes[2]\n",
    "rawnorm = np.divide(fluor,od600)\n",
    "\n"
   ]
  },
  {
   "cell_type": "code",
   "execution_count": 4,
   "metadata": {},
   "outputs": [
    {
     "data": {
      "text/plain": [
       "(96, 170)"
      ]
     },
     "execution_count": 4,
     "metadata": {},
     "output_type": "execute_result"
    }
   ],
   "source": [
    "np.array(rawnorm).shape"
   ]
  },
  {
   "cell_type": "code",
   "execution_count": 5,
   "metadata": {},
   "outputs": [],
   "source": [
    "# mean = np.mean(np.split(np.mean(np.split(rawnorm,2), axis = 0),2),axis=0)\n",
    "# std = np.std(np.split(np.std(np.split(rawnorm,2), axis = 0),2),axis=0)\n",
    "# highs = np.add(mean,std)\n",
    "# lows = np.subtract(mean,std)\n",
    "\n",
    "# mean = np.split(np.mean(np.split(rawnorm,2), axis = 0),2)[1]\n",
    "# std = np.split(np.std(np.split(rawnorm,2), axis = 0),2)[1]\n",
    "# highs = np.add(mean,std)\n",
    "# lows = np.subtract(mean,std)\n",
    "\n",
    "rawnorm=np.split(rawnorm,4)\n",
    "mean = np.mean([rawnorm[1],rawnorm[2],rawnorm[3]], axis = 0)\n",
    "std = np.std([rawnorm[1],rawnorm[2],rawnorm[3]], axis = 0)\n",
    "highs = np.add(mean,std)\n",
    "lows = np.subtract(mean,std)\n"
   ]
  },
  {
   "cell_type": "code",
   "execution_count": null,
   "metadata": {},
   "outputs": [],
   "source": []
  },
  {
   "cell_type": "code",
   "execution_count": 6,
   "metadata": {},
   "outputs": [
    {
     "data": {
      "text/plain": [
       "(24, 170)"
      ]
     },
     "execution_count": 6,
     "metadata": {},
     "output_type": "execute_result"
    }
   ],
   "source": [
    "np.array(mean).shape"
   ]
  },
  {
   "cell_type": "code",
   "execution_count": 7,
   "metadata": {},
   "outputs": [],
   "source": [
    "foldchangemean = [np.divide(i,mean[-1]) for i in mean]\n",
    "foldchangehighs = [np.divide(i,highs[-1]) for i in highs]\n",
    "foldchangelows = [np.divide(i,lows[-1]) for i in lows]"
   ]
  },
  {
   "cell_type": "code",
   "execution_count": 8,
   "metadata": {},
   "outputs": [],
   "source": [
    "foldchangemean = np.split(np.array(foldchangemean),4)\n",
    "foldchangehighs = np.split(np.array(foldchangehighs),4)\n",
    "foldchangelows = np.split(np.array(foldchangelows),4)"
   ]
  },
  {
   "cell_type": "code",
   "execution_count": null,
   "metadata": {},
   "outputs": [],
   "source": []
  },
  {
   "cell_type": "code",
   "execution_count": 9,
   "metadata": {},
   "outputs": [
    {
     "name": "stderr",
     "output_type": "stream",
     "text": [
      "invalid command name \"4383346880process_stream_events\"\n",
      "    while executing\n",
      "\"4383346880process_stream_events\"\n",
      "    (\"after\" script)\n",
      "can't invoke \"event\" command: application has been destroyed\n",
      "    while executing\n",
      "\"event generate $w <<ThemeChanged>>\"\n",
      "    (procedure \"ttk::ThemeChanged\" line 6)\n",
      "    invoked from within\n",
      "\"ttk::ThemeChanged\"\n",
      "2025-05-20 19:08:29.673 Python[62740:5194696] The class 'NSSavePanel' overrides the method identifier.  This method is implemented by class 'NSWindow'\n"
     ]
    }
   ],
   "source": [
    "fig, ax = plt.subplots(nrows=4, ncols=5,figsize=(32, 20))\n",
    "# fig.tight_layout(pad=8)\n",
    "plt.subplots_adjust(wspace=0.4, hspace=0.2)\n",
    "fig.suptitle(\"Pulse Amplitude Modulated Response\",size='xx-large',weight = \"bold\")\n",
    "for i in range(4):\n",
    "    for j in range(5):\n",
    "        ax[i,j].plot(np.linspace(0,rte,length), foldchangemean[i][j], '-', markersize = 3)\n",
    "        ax[i,j].fill_between(np.linspace(0,rte,length),foldchangehighs[i][j],foldchangelows[i][j],alpha = 0.45)\n",
    "        ymin = 0.92\n",
    "        if i == 2:\n",
    "            ymax = 1.03\n",
    "        else:\n",
    "            ymax = 1.03\n",
    "\n",
    "        ax[i,j].axhspan(ymin, ymax, 0, 1.05/7, facecolor=(2/255, 196/255, 73/255), alpha = 0.25)\n",
    "        ax[i,j].axhspan(ymin, ymax, 1.05/7, 3.1/7, facecolor=(255/255, 54/255, 54/255), alpha = 0.25)\n",
    "        ax[i,j].axhspan(ymin, ymax, 3.1/7, 1, facecolor=(15/255, 127/255, 255/255), alpha = 0.25)\n",
    "\n",
    "        ax[i,j].set_ylim([ymin,ymax])\n",
    "\n",
    "        ax[i,j].locator_params(axis='y', nbins=4)\n",
    "        ax[i,j].locator_params(axis='x', nbins=6)\n",
    "\n",
    "cols = []     \n",
    "for i in range(12):\n",
    "    cols.append(str(round(10*(0.5**i),3))+\" uM\")\n",
    "rows = [\"sucC\", \"rpoA\", \"fabA\",\"Anti-sigma 28 factor\"]\n",
    "\n",
    "for axi, col in zip(ax[0], cols):\n",
    "    axi.set_title(col,pad = 10,weight='bold')\n",
    "\n",
    "for axi, row in zip(ax[:,0], rows):\n",
    "    axi.set_ylabel(row, rotation=0, size='large',weight='bold',labelpad = 80)\n",
    "\n",
    "\n",
    "\n",
    "\n",
    "fig.supxlabel('Time (hr.)', size='xx-large',weight='bold')\n",
    "fig.supylabel('Fold Change', size = 'xx-large',weight='bold')\n",
    "\n",
    "\n",
    "plt.show()"
   ]
  }
 ],
 "metadata": {
  "kernelspec": {
   "display_name": "Python 3",
   "language": "python",
   "name": "python3"
  },
  "language_info": {
   "codemirror_mode": {
    "name": "ipython",
    "version": 3
   },
   "file_extension": ".py",
   "mimetype": "text/x-python",
   "name": "python",
   "nbconvert_exporter": "python",
   "pygments_lexer": "ipython3",
   "version": "3.10.11"
  }
 },
 "nbformat": 4,
 "nbformat_minor": 2
}
